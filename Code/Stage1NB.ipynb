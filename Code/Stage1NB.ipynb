{
 "cells": [
  {
   "cell_type": "code",
   "execution_count": 1,
   "metadata": {},
   "outputs": [],
   "source": [
    "using CSV, DataFrames, Plots, Statistics, StatsBase, JLD, Dates\n",
    "\n",
    "include(\"Mods.jl\");\n",
    "\n",
    "datapath = \"../Data/\";\n",
    "\n",
    "theme(:dark)\n",
    "Plots.default(titlefontsize=12, tickfontsize=10, labelfontsize=12, legendfontsize=9,\n",
    "    fontfamily=\"Computer Modern\", frame=:box, label=nothing)\n",
    "plotlyjs();"
   ]
  },
  {
   "cell_type": "code",
   "execution_count": 2,
   "metadata": {},
   "outputs": [],
   "source": [
    "Data = CSV.read(datapath * \"Stage0/Data_0.csv\", DataFrame);\n",
    "SelectedProds = load(datapath * \"Stage0/SelectedData/SelectedProds.jld\")[\"SelectedProds\"];\n",
    "SelectedData = [CSV.read(datapath * \"Stage0/SelectedData/$i.csv\", DataFrame) for i ∈ SelectedProds];"
   ]
  },
  {
   "cell_type": "code",
   "execution_count": 5,
   "metadata": {},
   "outputs": [],
   "source": [
    "for i ∈ 1:length(SelectedProds)\n",
    "    df = SelectedData[i]\n",
    "    Prod = SelectedProds[i]\n",
    "    DateAns = df.Date\n",
    "    PriceAns = df.Price\n",
    "    NewDateAns = sort(collect(Set(DateAns)))\n",
    "    NewPriceAns = [mean(PriceAns[findall(x -> x == d, DateAns)]) for d ∈ NewDateAns]\n",
    "    NewDF = DataFrame(\"Date\" => NewDateAns, \"Price\" => NewPriceAns)\n",
    "    CSV.write(datapath * \"Stage1/$Prod.csv\", NewDF)\n",
    "end"
   ]
  },
  {
   "cell_type": "code",
   "execution_count": 6,
   "metadata": {},
   "outputs": [],
   "source": [
    "StartConDate = 410\n",
    "EndConDate = 1700\n",
    "SelectedDates = StartConDate:EndConDate\n",
    "PricesMatrix = Matrix{Float64}(undef, length(SelectedDates), length(SelectedProds))\n",
    "PriceDataFrame = DataFrame()\n",
    "for i ∈ 1:length(SelectedProds)\n",
    "    dates = SelectedData[i].Date\n",
    "    Prices = SelectedData[i].Price\n",
    "    PricesMatrix[:, i] = [CostumMods.FindMeanPrice(Prices, dates, x) for x ∈ SelectedDates]\n",
    "    PriceDataFrame[!, SelectedProds[i]] = PricesMatrix[:, i]\n",
    "end\n",
    "PriceDataFrame.Date = collect(SelectedDates)\n",
    "CSV.write(datapath * \"Stage1/PricesMatrix.csv\", PriceDataFrame)\n",
    "save(datapath * \"Stage1/PricesMatrix.jld\", \"PricesMatrix\", PricesMatrix)"
   ]
  }
 ],
 "metadata": {
  "kernelspec": {
   "display_name": "Julia 1.7.2",
   "language": "julia",
   "name": "julia-1.7"
  },
  "language_info": {
   "file_extension": ".jl",
   "mimetype": "application/julia",
   "name": "julia",
   "version": "1.7.2"
  },
  "orig_nbformat": 4
 },
 "nbformat": 4,
 "nbformat_minor": 2
}
